{
 "cells": [
  {
   "cell_type": "raw",
   "metadata": {},
   "source": [
    "Write a Python Program to implement your own myreduce() function which works exactly like Python's built-in function reduce()"
   ]
  },
  {
   "cell_type": "code",
   "execution_count": 28,
   "metadata": {},
   "outputs": [],
   "source": [
    "def myreduce(func,sequence):\n",
    "    a=sequence[0]\n",
    "    l=len(sequence)\n",
    "    for i in range(1,l):\n",
    "        b=sequence[i]\n",
    "        a=func(a,b)\n",
    "    return a"
   ]
  },
  {
   "cell_type": "code",
   "execution_count": 29,
   "metadata": {},
   "outputs": [],
   "source": [
    "def func(a,b):\n",
    "    return a+b"
   ]
  },
  {
   "cell_type": "code",
   "execution_count": 30,
   "metadata": {},
   "outputs": [],
   "source": [
    "m=myreduce(func,[1,2,3,4,5,6,7,8,9,-5])"
   ]
  },
  {
   "cell_type": "code",
   "execution_count": 31,
   "metadata": {},
   "outputs": [
    {
     "data": {
      "text/plain": [
       "40"
      ]
     },
     "execution_count": 31,
     "metadata": {},
     "output_type": "execute_result"
    }
   ],
   "source": [
    "m"
   ]
  },
  {
   "cell_type": "raw",
   "metadata": {},
   "source": [
    "Write a Python program to implement your own myfilter() function which works exactly like Python's built-in function filter()"
   ]
  },
  {
   "cell_type": "code",
   "execution_count": 47,
   "metadata": {},
   "outputs": [],
   "source": [
    "m=[]\n",
    "def myfilter(func,sequence):\n",
    "    l=len(sequence)\n",
    "    for i in range(0,l):\n",
    "        a=sequence[i]\n",
    "        b=func(a)\n",
    "        m.append(b)\n",
    "    return m"
   ]
  },
  {
   "cell_type": "code",
   "execution_count": 48,
   "metadata": {},
   "outputs": [],
   "source": [
    "def func(a):\n",
    "    if type(a)==int:\n",
    "        return True\n",
    "    else:\n",
    "        return False"
   ]
  },
  {
   "cell_type": "code",
   "execution_count": 49,
   "metadata": {},
   "outputs": [
    {
     "data": {
      "text/plain": [
       "[True, True, False, False, True, False, True]"
      ]
     },
     "execution_count": 49,
     "metadata": {},
     "output_type": "execute_result"
    }
   ],
   "source": [
    "myfilter(func,[1,2,\"avi\",3.56,7898,4+5j,89])"
   ]
  },
  {
   "cell_type": "raw",
   "metadata": {},
   "source": [
    "Implement List comprehensions to produce the following lists.\n",
    "Write List comprehensions to produce the following Lists\n",
    "['A', 'C', 'A', 'D', 'G', 'I', ’L’, ‘ D’]\n",
    "['x', 'xx', 'xxx', 'xxxx', 'y', 'yy', 'yyy', 'yyyy', 'z', 'zz', 'zzz', 'zzzz']\n",
    "['x', 'y', 'z', 'xx', 'yy', 'zz', 'xx', 'yy', 'zz', 'xxxx', 'yyyy', 'zzzz']\n",
    "[[2], [3], [4], [3], [4], [5], [4], [5], [6]]\n",
    "[[2, 3, 4, 5], [3, 4, 5, 6], [4, 5, 6, 7], [5, 6, 7, 8]]\n",
    "[(1, 1), (2, 1), (3, 1), (1, 2), (2, 2), (3, 2), (1, 3), (2, 3), (3, 3)]"
   ]
  },
  {
   "cell_type": "code",
   "execution_count": 2,
   "metadata": {},
   "outputs": [
    {
     "name": "stdout",
     "output_type": "stream",
     "text": [
      "['A', 'C', 'A', 'D', 'G', 'I', 'L', 'D']\n",
      "['x', 'xx', 'xxx', 'xxxx', 'y', 'yy', 'yyy', 'yyyy', 'z', 'zz', 'zzz', 'zzzz']\n",
      "['x', 'y', 'z', 'xx', 'yy', 'zz', 'xxx', 'yyy', 'zzz', 'xxxx', 'yyyy', 'zzzz']\n",
      "[[2], [3], [4], [3], [4], [5], [4], [5], [6]]\n",
      "[[2, 3, 4, 5], [3, 4, 5, 6], [4, 5, 6, 7], [5, 6, 7, 8]]\n",
      "[(1, 1), (2, 1), (3, 1), (1, 2), (2, 2), (3, 2), (1, 3), (2, 3), (3, 3)]\n"
     ]
    }
   ],
   "source": [
    "l=[a for a in \"ACADGILD\"]\n",
    "print(l)\n",
    "m=[i*j  for i in ['x','y','z'] for j in range(1,5)]\n",
    "print(m)\n",
    "n=[i*j  for j in range(1,5) for i in ['x','y','z'] ]\n",
    "print(n)\n",
    "o = [[int(item)] for item in \"234345456\"]\n",
    "print(o)\n",
    "p = [ [x+n for x in [2,3,4,5]]  for n in range(0,4)]\n",
    "print(p) \n",
    "q=[(j,i) for i in range(1,4) for j in range(1,4)]\n",
    "print(q)"
   ]
  },
  {
   "cell_type": "raw",
   "metadata": {},
   "source": [
    "Implement a function longestWord() that takes a list of words and returns the longest one."
   ]
  },
  {
   "cell_type": "code",
   "execution_count": 1,
   "metadata": {},
   "outputs": [
    {
     "name": "stdout",
     "output_type": "stream",
     "text": [
      "Enter list of words :  aviansh,singh,hello,kallu,jyoti niketan school\n",
      "['aviansh', 'singh', 'hello', 'kallu', 'jyoti niketan school']\n",
      "Longest Word is = jyoti niketan school\n"
     ]
    }
   ],
   "source": [
    "a=input(\"Enter list of words :  \")\n",
    "list_of_words=list(a.split(\",\"))\n",
    "print(list_of_words)\n",
    "for i in list_of_words:\n",
    "    a=list_of_words[0]\n",
    "    b=len(a)\n",
    "    if b<len(i):\n",
    "        b=len(i)\n",
    "        a=i\n",
    "print(\"Longest Word is = \"+str(a))"
   ]
  },
  {
   "cell_type": "raw",
   "metadata": {},
   "source": [
    "Write a Python Program(with class concepts) to find the area of the triangle using the below formula.\n",
    "area = (s*(s-a)*(s-b)*(s-c)) ** 0.5\n",
    "Function to take the length of the sides of triangle from user should be defined in the parent class and function to calculate the area should be defined in subclass."
   ]
  },
  {
   "cell_type": "code",
   "execution_count": 11,
   "metadata": {},
   "outputs": [
    {
     "name": "stdout",
     "output_type": "stream",
     "text": [
      "Enter 1st side of triangle : 10\n",
      "Enter 2nd side of triangle : 5\n",
      "Enter 3rd side of triangle : 13\n",
      "Area of triangle is  22.44994432064365\n"
     ]
    }
   ],
   "source": [
    "class lenght_of_sides:\n",
    "    def __init__(self,a,b,c):\n",
    "        self.a=a\n",
    "        self.b=b\n",
    "        self.c=c\n",
    "a=int(input(\"Enter 1st side of triangle : \"))\n",
    "b=int(input(\"Enter 2nd side of triangle : \"))\n",
    "c=int(input(\"Enter 3rd side of triangle : \"))\n",
    "class area_of_triangle(lenght_of_sides):\n",
    "        def __init__(self,*args):\n",
    "            super(area_of_triangle,self).__init__ (*args) \n",
    "        def area(self):\n",
    "                s=(a + b + c)/2\n",
    "                ar=float((s*(s - a)*(s - b)*(s - c)) ** 0.5)\n",
    "                return ar\n",
    "obj=area_of_triangle(a,b,c)\n",
    "print(\"Area of triangle is  {}\" .format(obj.area()))"
   ]
  },
  {
   "cell_type": "raw",
   "metadata": {},
   "source": [
    "Write a function filter_long_words() that takes a list of words and an integer n and returns the list of words that are longer than n."
   ]
  },
  {
   "cell_type": "code",
   "execution_count": 6,
   "metadata": {},
   "outputs": [
    {
     "name": "stdout",
     "output_type": "stream",
     "text": [
      "Enter list of words :  avinash,singh,taj,mahal,city,lion,Jyoti nietan school\n",
      "Enetr a Integer : 4\n",
      "['avinash', 'singh', 'taj', 'mahal', 'city', 'lion', 'Jyoti nietan school']\n"
     ]
    },
    {
     "data": {
      "text/plain": [
       "['avinash', 'singh', 'mahal', 'Jyoti nietan school']"
      ]
     },
     "execution_count": 6,
     "metadata": {},
     "output_type": "execute_result"
    }
   ],
   "source": [
    "a=input(\"Enter list of words :  \")\n",
    "b=int(input(\"Enetr a Integer : \"))\n",
    "list_of_words=list(a.split(\",\"))\n",
    "print(list_of_words)\n",
    "m=[]\n",
    "def filter_long_words(lwd,n):\n",
    "    for i in lwd:\n",
    "        if len(i)>n:\n",
    "            m.append(i)\n",
    "    return m\n",
    "filter_long_words(list_of_words,b)"
   ]
  },
  {
   "cell_type": "raw",
   "metadata": {},
   "source": [
    "Write a Python program using function concept that maps list of words into a list of integers representing the lengths of the corresponding words .\n",
    "Hint:\n",
    "If a list [ ab,cde,erty] is passed on to the python function output should come as [2,3,4]\n",
    "Here 2,3 and 4 are the lengths of the words in the list."
   ]
  },
  {
   "cell_type": "code",
   "execution_count": 8,
   "metadata": {},
   "outputs": [
    {
     "name": "stdout",
     "output_type": "stream",
     "text": [
      "Enter list of words : ab,cde,erty\n"
     ]
    },
    {
     "data": {
      "text/plain": [
       "[2, 3, 4]"
      ]
     },
     "execution_count": 8,
     "metadata": {},
     "output_type": "execute_result"
    }
   ],
   "source": [
    "a=input(\"Enter list of words : \")\n",
    "list_of_words=list(a.split(\",\"))\n",
    "m=[]\n",
    "def list_of_integers(lwd):\n",
    "    for i in lwd:\n",
    "        m.append(len(i))\n",
    "    return m\n",
    "list_of_integers(list_of_words)"
   ]
  },
  {
   "cell_type": "raw",
   "metadata": {},
   "source": [
    "Write a Python function which takes a character (i.e. a string of length 1) and returns True if it is a vowel, False otherwise."
   ]
  },
  {
   "cell_type": "code",
   "execution_count": 73,
   "metadata": {},
   "outputs": [],
   "source": [
    "def is_vowel(char):\n",
    "    c=char.lower()\n",
    "    print(c)\n",
    "    v=['a','e','i','o','u']\n",
    "    if c in v:\n",
    "        return True\n",
    "    else:\n",
    "        return False"
   ]
  },
  {
   "cell_type": "code",
   "execution_count": 76,
   "metadata": {},
   "outputs": [
    {
     "name": "stdout",
     "output_type": "stream",
     "text": [
      "o\n"
     ]
    },
    {
     "data": {
      "text/plain": [
       "True"
      ]
     },
     "execution_count": 76,
     "metadata": {},
     "output_type": "execute_result"
    }
   ],
   "source": [
    "is_vowel('O')"
   ]
  }
 ],
 "metadata": {
  "kernelspec": {
   "display_name": "Python 3",
   "language": "python",
   "name": "python3"
  },
  "language_info": {
   "codemirror_mode": {
    "name": "ipython",
    "version": 3
   },
   "file_extension": ".py",
   "mimetype": "text/x-python",
   "name": "python",
   "nbconvert_exporter": "python",
   "pygments_lexer": "ipython3",
   "version": "3.7.6"
  }
 },
 "nbformat": 4,
 "nbformat_minor": 4
}
